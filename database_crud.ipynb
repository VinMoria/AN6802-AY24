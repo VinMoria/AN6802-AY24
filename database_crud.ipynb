{
  "nbformat": 4,
  "nbformat_minor": 0,
  "metadata": {
    "colab": {
      "provenance": []
    },
    "kernelspec": {
      "name": "python3",
      "display_name": "Python 3"
    },
    "language_info": {
      "name": "python"
    }
  },
  "cells": [
    {
      "cell_type": "code",
      "execution_count": 21,
      "metadata": {
        "id": "SrMqnV9hiDlk"
      },
      "outputs": [],
      "source": [
        "import sqlite3\n",
        "import datetime"
      ]
    },
    {
      "cell_type": "code",
      "source": [
        "conn = sqlite3.connect('user.db')\n",
        "conn.execute(\"create table user (name text, timestamp timestamp)\")\n",
        "conn.close()"
      ],
      "metadata": {
        "id": "OCS-Y4wvii4g"
      },
      "execution_count": 22,
      "outputs": []
    },
    {
      "cell_type": "code",
      "source": [
        "conn = sqlite3.connect('user.db')\n",
        "c = conn.cursor()\n",
        "c.execute(\"select * from user\")\n",
        "print(c.description)\n",
        "c.close()\n",
        "conn.close()"
      ],
      "metadata": {
        "colab": {
          "base_uri": "https://localhost:8080/"
        },
        "id": "f_GXqb5hjhJ1",
        "outputId": "e9725ded-39ed-459e-bd23-a01575a18deb"
      },
      "execution_count": 23,
      "outputs": [
        {
          "output_type": "stream",
          "name": "stdout",
          "text": [
            "(('name', None, None, None, None, None, None), ('timestamp', None, None, None, None, None, None))\n"
          ]
        }
      ]
    },
    {
      "cell_type": "code",
      "source": [
        "t = datetime.datetime.now()\n",
        "name =input(\"name: \")\n",
        "t"
      ],
      "metadata": {
        "colab": {
          "base_uri": "https://localhost:8080/"
        },
        "id": "bvanYRjykdxc",
        "outputId": "bf38c667-2f91-42c0-e491-346e10bf2d83"
      },
      "execution_count": 27,
      "outputs": [
        {
          "name": "stdout",
          "output_type": "stream",
          "text": [
            "name: AA\n"
          ]
        },
        {
          "output_type": "execute_result",
          "data": {
            "text/plain": [
              "datetime.datetime(2025, 3, 14, 12, 23, 24, 244133)"
            ]
          },
          "metadata": {},
          "execution_count": 27
        }
      ]
    },
    {
      "cell_type": "code",
      "source": [
        "conn = sqlite3.connect('user.db')\n",
        "c = conn.cursor()\n",
        "c.execute(\"insert into user (name, timestamp) values (?,?)\", (name, t))\n",
        "conn.commit()\n",
        "c.close()\n",
        "conn.close()"
      ],
      "metadata": {
        "id": "0z_zZ1E0kd_k"
      },
      "execution_count": 28,
      "outputs": []
    },
    {
      "cell_type": "code",
      "source": [
        "conn = sqlite3.connect('user.db')\n",
        "c = conn.cursor()\n",
        "c.execute(\"select * from user\")\n",
        "r = \"\"\n",
        "for row in c.fetchall():\n",
        "    r += str(row) + \"\\n\"\n",
        "print(r)\n",
        "c.close()\n",
        "conn.close()"
      ],
      "metadata": {
        "colab": {
          "base_uri": "https://localhost:8080/"
        },
        "id": "IUbfQikjmWco",
        "outputId": "af41b40d-7a4e-45ad-8039-31a4d518597f"
      },
      "execution_count": 36,
      "outputs": [
        {
          "output_type": "stream",
          "name": "stdout",
          "text": [
            "\n"
          ]
        }
      ]
    },
    {
      "cell_type": "code",
      "source": [
        "conn = sqlite3.connect('user.db')\n",
        "c = conn.cursor()\n",
        "c.execute(\"delete from user\")\n",
        "conn.commit()\n",
        "c.close()\n",
        "conn.close()"
      ],
      "metadata": {
        "id": "40_BOxO3narS"
      },
      "execution_count": 35,
      "outputs": []
    }
  ]
}